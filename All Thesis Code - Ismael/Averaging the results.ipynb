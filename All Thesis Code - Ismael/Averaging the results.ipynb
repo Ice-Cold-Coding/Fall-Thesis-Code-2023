{
 "cells": [
  {
   "cell_type": "markdown",
   "id": "40fb7d10",
   "metadata": {},
   "source": [
    "# Combing Results into 1 CSV file - LR"
   ]
  },
  {
   "cell_type": "code",
   "execution_count": null,
   "id": "0df85ed8",
   "metadata": {},
   "outputs": [],
   "source": [
    "import pandas as pd\n",
    "import glob\n",
    "\n",
    "# Specify the path to your CSV files\n",
    "path = r'C:\\Users\\tripl\\Fall Thesis Code 2023 - Ismael\\Github code\\performance_metrics\\LR\\*.csv'\n",
    "\n",
    "# Use glob to get a list of all CSV files in the specified path\n",
    "files = glob.glob(path)\n",
    "\n",
    "# Initialize an empty DataFrame to store the combined data\n",
    "combined_data = pd.DataFrame()\n",
    "\n",
    "# Iterate through each CSV file and append its data to the combined_data DataFrame\n",
    "for file in files:\n",
    "    df = pd.read_csv(file)\n",
    "    combined_data = combined_data.append(df, ignore_index=True)\n",
    "\n",
    "# Save the combined data to a new CSV file\n",
    "combined_data.to_csv(r'C:\\Users\\tripl\\Fall Thesis Code 2023 - Ismael\\Github code\\performance_metrics\\LR_combined_file.csv', index=False)"
   ]
  },
  {
   "cell_type": "code",
   "execution_count": null,
   "id": "ff67d8ae",
   "metadata": {},
   "outputs": [],
   "source": [
    "import pandas as pd\n",
    "\n",
    "# Replace 'your_file.csv' with the actual path to your CSV file\n",
    "csv_file_path = r'C:\\Users\\tripl\\Fall Thesis Code 2023 - Ismael\\Github code\\performance_metrics\\LR_combined_file.csv'\n",
    "\n",
    "# Read the CSV file into a pandas DataFrame\n",
    "df = pd.read_csv(csv_file_path, delimiter=',')\n",
    "\n",
    "# Calculate the average per column\n",
    "average_per_column = df.mean()\n",
    "\n",
    "# Calculate the standard deviation per column\n",
    "std_deviation_per_column = df.std()"
   ]
  },
  {
   "cell_type": "markdown",
   "id": "20b1c103",
   "metadata": {},
   "source": [
    "### Saving Average Performance Metrics"
   ]
  },
  {
   "cell_type": "code",
   "execution_count": null,
   "id": "c753ee93",
   "metadata": {},
   "outputs": [],
   "source": [
    "import csv\n",
    "\n",
    "# Your dictionary\n",
    "\n",
    "result_dict = {}\n",
    "\n",
    "for key in average_per_column.keys():\n",
    "    result_dict[\"Average \" + key] = average_per_column[key]\n",
    "    print(key + \": \" + str(average_per_column[key]))\n",
    "\n",
    "# Replace 'output_file.csv' with the desired output file path\n",
    "output_file_path = r'C:\\Users\\tripl\\Fall Thesis Code 2023 - Ismael\\Github code\\performance_metrics\\Average_Performance_LR.csv'\n",
    "\n",
    "# Write the dictionary to a CSV file\n",
    "with open(output_file_path, 'w', newline='') as csvfile:\n",
    "    csv_writer = csv.writer(csvfile)\n",
    "\n",
    "    # Write header\n",
    "    csv_writer.writerow(result_dict.keys())\n",
    "\n",
    "    # Write data\n",
    "    csv_writer.writerow(result_dict.values())"
   ]
  },
  {
   "cell_type": "markdown",
   "id": "523d55d9",
   "metadata": {},
   "source": [
    "### Saving Average Standard Deviation"
   ]
  },
  {
   "cell_type": "code",
   "execution_count": null,
   "id": "42ca7b37",
   "metadata": {},
   "outputs": [],
   "source": [
    "import csv\n",
    "\n",
    "# Your dictionary\n",
    "\n",
    "result_dict = {}\n",
    "\n",
    "for key in std_deviation_per_column.keys():\n",
    "    result_dict[\"Standard Deviation \" + key] = std_deviation_per_column[key]\n",
    "    print(key + \": \" + str(std_deviation_per_column[key]))\n",
    "    \n",
    "\n",
    "# Replace 'output_file.csv' with the desired output file path\n",
    "output_file_path = r'C:\\Users\\tripl\\Fall Thesis Code 2023 - Ismael\\Github code\\performance_metrics\\STD_LR.csv'\n",
    "\n",
    "# Write the dictionary to a CSV file\n",
    "with open(output_file_path, 'w', newline='') as csvfile:\n",
    "    csv_writer = csv.writer(csvfile)\n",
    "\n",
    "    # Write header\n",
    "    csv_writer.writerow(result_dict.keys())\n",
    "\n",
    "    # Write data\n",
    "    csv_writer.writerow(result_dict.values())"
   ]
  },
  {
   "cell_type": "markdown",
   "id": "9b989f7c",
   "metadata": {},
   "source": [
    "# Combing Results into 1 CSV file - SR"
   ]
  },
  {
   "cell_type": "code",
   "execution_count": null,
   "id": "fe6adb1d",
   "metadata": {},
   "outputs": [],
   "source": [
    "import pandas as pd\n",
    "import glob\n",
    "\n",
    "# Specify the path to your CSV files\n",
    "path = r'C:\\Users\\tripl\\Fall Thesis Code 2023 - Ismael\\Github code\\performance_metrics\\SR\\*.csv'\n",
    "\n",
    "# Use glob to get a list of all CSV files in the specified path\n",
    "files = glob.glob(path)\n",
    "\n",
    "# Initialize an empty DataFrame to store the combined data\n",
    "combined_data = pd.DataFrame()\n",
    "\n",
    "# Iterate through each CSV file and append its data to the combined_data DataFrame\n",
    "for file in files:\n",
    "    df = pd.read_csv(file)\n",
    "    combined_data = combined_data.append(df, ignore_index=True)\n",
    "\n",
    "# Save the combined data to a new CSV file\n",
    "combined_data.to_csv(r'C:\\Users\\tripl\\Fall Thesis Code 2023 - Ismael\\Github code\\performance_metrics\\SR_combined_file.csv', index=False)"
   ]
  },
  {
   "cell_type": "code",
   "execution_count": null,
   "id": "fa3613b4",
   "metadata": {},
   "outputs": [],
   "source": [
    "combined_data"
   ]
  },
  {
   "cell_type": "code",
   "execution_count": null,
   "id": "c42db431",
   "metadata": {},
   "outputs": [],
   "source": [
    "import pandas as pd\n",
    "\n",
    "# Replace 'your_file.csv' with the actual path to your CSV file\n",
    "csv_file_path = r'C:\\Users\\tripl\\Fall Thesis Code 2023 - Ismael\\Github code\\performance_metrics\\SR_combined_file.csv'\n",
    "\n",
    "# Read the CSV file into a pandas DataFrame\n",
    "df = pd.read_csv(csv_file_path, delimiter=',')\n",
    "\n",
    "# Calculate the average per column\n",
    "average_per_column = df.mean()\n",
    "\n",
    "# Calculate the standard deviation per column\n",
    "std_deviation_per_column = df.std()"
   ]
  },
  {
   "cell_type": "markdown",
   "id": "efe08433",
   "metadata": {},
   "source": [
    "### Saving Average Performance Metrics"
   ]
  },
  {
   "cell_type": "code",
   "execution_count": null,
   "id": "9a912e9d",
   "metadata": {},
   "outputs": [],
   "source": [
    "import csv\n",
    "\n",
    "# Your dictionary\n",
    "\n",
    "result_dict = {}\n",
    "\n",
    "for key in average_per_column.keys():\n",
    "    result_dict[\"Average \" + key] = average_per_column[key]\n",
    "    print(key + \": \" + str(average_per_column[key]))\n",
    "\n",
    "# Replace 'output_file.csv' with the desired output file path\n",
    "output_file_path = r'C:\\Users\\tripl\\Fall Thesis Code 2023 - Ismael\\Github code\\performance_metrics\\Average_Performance_SR.csv'\n",
    "\n",
    "# Write the dictionary to a CSV file\n",
    "with open(output_file_path, 'w', newline='') as csvfile:\n",
    "    csv_writer = csv.writer(csvfile)\n",
    "\n",
    "    # Write header\n",
    "    csv_writer.writerow(result_dict.keys())\n",
    "\n",
    "    # Write data\n",
    "    csv_writer.writerow(result_dict.values())"
   ]
  },
  {
   "cell_type": "markdown",
   "id": "550f89c3",
   "metadata": {},
   "source": [
    "### Saving Average Standard Deviation"
   ]
  },
  {
   "cell_type": "code",
   "execution_count": null,
   "id": "71429d45",
   "metadata": {},
   "outputs": [],
   "source": [
    "import csv\n",
    "\n",
    "# Your dictionary\n",
    "\n",
    "result_dict = {}\n",
    "\n",
    "for key in std_deviation_per_column.keys():\n",
    "    result_dict[\"Standard Deviation \" + key] = std_deviation_per_column[key]\n",
    "    print(key + \": \" + str(std_deviation_per_column[key]))\n",
    "\n",
    "# Replace 'output_file.csv' with the desired output file path\n",
    "output_file_path = r'C:\\Users\\tripl\\Fall Thesis Code 2023 - Ismael\\Github code\\performance_metrics\\STD_SR.csv'\n",
    "\n",
    "# Write the dictionary to a CSV file\n",
    "with open(output_file_path, 'w', newline='') as csvfile:\n",
    "    csv_writer = csv.writer(csvfile)\n",
    "\n",
    "    # Write header\n",
    "    csv_writer.writerow(result_dict.keys())\n",
    "\n",
    "    # Write data\n",
    "    csv_writer.writerow(result_dict.values())"
   ]
  },
  {
   "cell_type": "markdown",
   "id": "b4552384",
   "metadata": {},
   "source": [
    "# Combing Results into 1 CSV file - HR"
   ]
  },
  {
   "cell_type": "code",
   "execution_count": null,
   "id": "3ee137d4",
   "metadata": {},
   "outputs": [],
   "source": [
    "import pandas as pd\n",
    "import glob\n",
    "\n",
    "# Specify the path to your CSV files\n",
    "path = r'C:\\Users\\tripl\\Fall Thesis Code 2023 - Ismael\\Github code\\performance_metrics\\HR\\*.csv'\n",
    "\n",
    "# Use glob to get a list of all CSV files in the specified path\n",
    "files = glob.glob(path)\n",
    "\n",
    "# Initialize an empty DataFrame to store the combined data\n",
    "combined_data = pd.DataFrame()\n",
    "\n",
    "# Iterate through each CSV file and append its data to the combined_data DataFrame\n",
    "for file in files:\n",
    "    df = pd.read_csv(file)\n",
    "    combined_data = combined_data.append(df, ignore_index=True)\n",
    "\n",
    "# Save the combined data to a new CSV file\n",
    "combined_data.to_csv(r'C:\\Users\\tripl\\Fall Thesis Code 2023 - Ismael\\Github code\\performance_metrics\\HR_combined_file.csv', index=False)"
   ]
  },
  {
   "cell_type": "code",
   "execution_count": null,
   "id": "a828ac72",
   "metadata": {},
   "outputs": [],
   "source": [
    "import pandas as pd\n",
    "\n",
    "# Replace 'your_file.csv' with the actual path to your CSV file\n",
    "csv_file_path = r'C:\\Users\\tripl\\Fall Thesis Code 2023 - Ismael\\Github code\\performance_metrics\\HR_combined_file.csv'\n",
    "\n",
    "# Read the CSV file into a pandas DataFrame\n",
    "df = pd.read_csv(csv_file_path, delimiter=',')\n",
    "\n",
    "# Calculate the average per column\n",
    "average_per_column = df.mean()\n",
    "\n",
    "# Calculate the standard deviation per column\n",
    "std_deviation_per_column = df.std()"
   ]
  },
  {
   "cell_type": "markdown",
   "id": "99880c89",
   "metadata": {},
   "source": [
    "### Saving Average Performance Metrics"
   ]
  },
  {
   "cell_type": "code",
   "execution_count": null,
   "id": "19b7a2a2",
   "metadata": {},
   "outputs": [],
   "source": [
    "import csv\n",
    "\n",
    "# Your dictionary\n",
    "\n",
    "result_dict = {}\n",
    "\n",
    "for key in average_per_column.keys():\n",
    "    result_dict[\"Average \" + key] = average_per_column[key]\n",
    "    print(key + \": \" + str(average_per_column[key]))\n",
    "\n",
    "# Replace 'output_file.csv' with the desired output file path\n",
    "output_file_path = r'C:\\Users\\tripl\\Fall Thesis Code 2023 - Ismael\\Github code\\performance_metrics\\Average_Performance_HR.csv'\n",
    "\n",
    "# Write the dictionary to a CSV file\n",
    "with open(output_file_path, 'w', newline='') as csvfile:\n",
    "    csv_writer = csv.writer(csvfile)\n",
    "\n",
    "    # Write header\n",
    "    csv_writer.writerow(result_dict.keys())\n",
    "\n",
    "    # Write data\n",
    "    csv_writer.writerow(result_dict.values())"
   ]
  },
  {
   "cell_type": "markdown",
   "id": "40c68500",
   "metadata": {},
   "source": [
    "### Saving Average Standard Deviation"
   ]
  },
  {
   "cell_type": "code",
   "execution_count": null,
   "id": "7383fc53",
   "metadata": {},
   "outputs": [],
   "source": [
    "import csv\n",
    "\n",
    "# Your dictionary\n",
    "\n",
    "result_dict = {}\n",
    "\n",
    "for key in std_deviation_per_column.keys():\n",
    "    result_dict[\"Standard Deviation \" + key] = std_deviation_per_column[key]\n",
    "    print(key + \": \" + str(std_deviation_per_column[key]))\n",
    "\n",
    "# Replace 'output_file.csv' with the desired output file path\n",
    "output_file_path = r'C:\\Users\\tripl\\Fall Thesis Code 2023 - Ismael\\Github code\\performance_metrics\\STD_HR.csv'\n",
    "\n",
    "# Write the dictionary to a CSV file\n",
    "with open(output_file_path, 'w', newline='') as csvfile:\n",
    "    csv_writer = csv.writer(csvfile)\n",
    "\n",
    "    # Write header\n",
    "    csv_writer.writerow(result_dict.keys())\n",
    "\n",
    "    # Write data\n",
    "    csv_writer.writerow(result_dict.values())"
   ]
  }
 ],
 "metadata": {
  "kernelspec": {
   "display_name": "Python 3 (ipykernel)",
   "language": "python",
   "name": "python3"
  },
  "language_info": {
   "codemirror_mode": {
    "name": "ipython",
    "version": 3
   },
   "file_extension": ".py",
   "mimetype": "text/x-python",
   "name": "python",
   "nbconvert_exporter": "python",
   "pygments_lexer": "ipython3",
   "version": "3.9.13"
  }
 },
 "nbformat": 4,
 "nbformat_minor": 5
}
