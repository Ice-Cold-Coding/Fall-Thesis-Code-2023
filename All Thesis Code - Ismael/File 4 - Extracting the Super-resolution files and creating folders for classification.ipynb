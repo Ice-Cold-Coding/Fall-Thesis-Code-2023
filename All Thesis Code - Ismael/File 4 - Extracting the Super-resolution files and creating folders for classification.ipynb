{
 "cells": [
  {
   "cell_type": "markdown",
   "id": "96369266",
   "metadata": {},
   "source": [
    "### Creating folder that contains super-resolution images for classification"
   ]
  },
  {
   "cell_type": "code",
   "execution_count": null,
   "id": "944a9086",
   "metadata": {},
   "outputs": [],
   "source": [
    "import os\n",
    "import zipfile\n",
    "import nibabel as nib\n",
    "from PIL import Image\n",
    "import numpy as np\n",
    "import shutil\n",
    "\n",
    "#Creating a new sub-directory to store files for the classification task\n",
    "source_folder = r\"D:\\images\"\n",
    "\n",
    "HGG = os.listdir(r\"D:\\Gaussian_blur_bicubic_interpolation\\HGG_HR\\t1\")\n",
    "LGG = os.listdir(r\"D:\\Gaussian_blur_bicubic_interpolation\\LGG_HR\\t1\")\n",
    "\n",
    "if not os.path.exists(r\"D:\\Gaussian_blur_bicubic_interpolation\\Classification\\SR\\HGG\"):\n",
    "    os.makedirs(r\"D:\\Gaussian_blur_bicubic_interpolation\\Classification\\SR\\HGG\")\n",
    "\n",
    "if not os.path.exists(r\"D:\\Gaussian_blur_bicubic_interpolation\\Classification\\SR\\LGG\"):\n",
    "    os.makedirs(r\"D:\\Gaussian_blur_bicubic_interpolation\\Classification\\SR\\LGG\")\n",
    "\n",
    "#Change to how many epochs you trained the SwinIR model for\n",
    "epoch_filter = 24\n",
    "\n",
    "#Moving the files to the SR folder\n",
    "for filename in os.listdir(source_folder):\n",
    "    source_path = os.path.join(source_folder, filename, filename+\"_\"+str(epoch_filter) + \".png\")\n",
    "    if os.path.isfile(source_path):\n",
    "        if filename + \".png\" in HGG:\n",
    "            shutil.copy(source_path, r\"D:\\Gaussian_blur_bicubic_interpolation\\Classification\\SR\\HGG\")\n",
    "            os.rename(r\"D:\\Gaussian_blur_bicubic_interpolation\\Classification\\SR\\HGG\\\\\" + filename+\"_\"+str(epoch_filter) + \".png\", r\"D:\\Gaussian_blur_bicubic_interpolation\\Classification\\SR\\HGG\\\\\" + filename + \".png\")\n",
    "        if filename + \".png\" in LGG:\n",
    "            shutil.copy(source_path, r\"D:\\Gaussian_blur_bicubic_interpolation\\Classification\\SR\\LGG\")\n",
    "            os.rename(r\"D:\\Gaussian_blur_bicubic_interpolation\\Classification\\SR\\LGG\\\\\" + filename+\"_\"+str(epoch_filter) + \".png\", r\"D:\\Gaussian_blur_bicubic_interpolation\\Classification\\SR\\LGG\\\\\" + filename + \".png\")"
   ]
  },
  {
   "cell_type": "markdown",
   "id": "9012640d",
   "metadata": {},
   "source": [
    "### Creating Train-Test-Validation Splits for Classificaiton  (Stratified  Sampling)"
   ]
  },
  {
   "cell_type": "markdown",
   "id": "dc39680b",
   "metadata": {},
   "source": [
    "#### SR"
   ]
  },
  {
   "cell_type": "code",
   "execution_count": null,
   "id": "c7998ecb",
   "metadata": {},
   "outputs": [],
   "source": [
    "import os\n",
    "from sklearn.model_selection import train_test_split\n",
    "\n",
    "HGG_LGG = [\"HGG\", \"LGG\"]\n",
    "even_split = len(os.listdir(r'D:\\Gaussian_blur_bicubic_interpolation\\Classification\\SR\\LGG'))\n",
    "\n",
    "#5 Different train-test-validation splits are created for cross-validation\n",
    "for i in range(1,6):\n",
    "    for glioma in HGG_LGG:\n",
    "        data_folder = r'D:\\Gaussian_blur_bicubic_interpolation\\Classification\\SR' + \"\\\\\" + glioma\n",
    "        all_files = os.listdir(data_folder)\n",
    "        all_files = all_files[:even_split]\n",
    "        train_files, test_and_val_files = train_test_split(all_files, test_size=0.2, random_state=i, shuffle=True)\n",
    "        test_files, val_files = train_test_split(test_and_val_files, test_size=0.5, random_state=i, shuffle=True)\n",
    "\n",
    "        # Define paths for train, test, and validation folders\n",
    "        train_folder = r'D:\\Gaussian_blur_bicubic_interpolation\\Classification\\SR\\{}\\train\\\\'.format(i) + glioma\n",
    "        test_folder = r'D:\\Gaussian_blur_bicubic_interpolation\\Classification\\SR\\{}\\test\\\\'.format(i) + glioma\n",
    "        val_folder = r'D:\\Gaussian_blur_bicubic_interpolation\\Classification\\SR\\{}\\val\\\\'.format(i)  + glioma\n",
    "\n",
    "        # Create train, test, and validation folders if they don't exist\n",
    "        os.makedirs(train_folder, exist_ok=True)\n",
    "        os.makedirs(test_folder, exist_ok=True)\n",
    "        os.makedirs(val_folder, exist_ok=True)\n",
    "\n",
    "            # Move files to their respective folders\n",
    "        for file in train_files:\n",
    "            src_path = os.path.join(data_folder, file)\n",
    "            dest_path = os.path.join(train_folder, file)\n",
    "            shutil.copy(src_path, dest_path)\n",
    "\n",
    "        for file in test_files:\n",
    "            src_path = os.path.join(data_folder, file)\n",
    "            dest_path = os.path.join(test_folder, file)\n",
    "            shutil.copy(src_path, dest_path)\n",
    "\n",
    "        for file in val_files:\n",
    "            src_path = os.path.join(data_folder, file)\n",
    "            dest_path = os.path.join(val_folder, file)\n",
    "            shutil.copy(src_path, dest_path)"
   ]
  },
  {
   "cell_type": "markdown",
   "id": "3b9be836",
   "metadata": {},
   "source": [
    "#### HR"
   ]
  },
  {
   "cell_type": "code",
   "execution_count": null,
   "id": "ec20dbfc",
   "metadata": {},
   "outputs": [],
   "source": [
    "HGG_LGG = [\"HGG\", \"LGG\"]\n",
    "\n",
    "#5 Different train-test-validation splits are created for cross-validation\n",
    "for i in range(1,6):\n",
    "    for glioma in HGG_LGG:\n",
    "        # Define paths for train, test, and validation folders\n",
    "        train_folder = r'D:\\Gaussian_blur_bicubic_interpolation\\Classification\\HR\\{}\\train\\\\'.format(i) + glioma\n",
    "        test_folder = r'D:\\Gaussian_blur_bicubic_interpolation\\Classification\\HR\\{}\\test\\\\'.format(i) + glioma\n",
    "        val_folder = r'D:\\Gaussian_blur_bicubic_interpolation\\Classification\\HR\\{}\\val\\\\'.format(i)  + glioma\n",
    "\n",
    "        # Create train, test, and validation folders if they don't exist\n",
    "        os.makedirs(train_folder, exist_ok=True)\n",
    "        os.makedirs(test_folder, exist_ok=True)\n",
    "        os.makedirs(val_folder, exist_ok=True)    \n",
    "\n",
    "        train = r'D:\\Gaussian_blur_bicubic_interpolation\\Classification\\SR\\{}\\train\\\\'.format(i) + glioma\n",
    "        test =  r'D:\\Gaussian_blur_bicubic_interpolation\\Classification\\SR\\{}\\test\\\\'.format(i) + glioma\n",
    "        val =  r'D:\\Gaussian_blur_bicubic_interpolation\\Classification\\SR\\{}\\val\\\\'.format(i) + glioma\n",
    "\n",
    "        #Copying the images in the train, test and val folder, so that they are the same for LR, HR, SR\n",
    "\n",
    "        for file in os.listdir(train):\n",
    "            if file in os.listdir(r'D:\\Gaussian_blur_bicubic_interpolation\\{}_HR\\t1'.format(glioma)):\n",
    "                shutil.copy(r'D:\\Gaussian_blur_bicubic_interpolation\\{}_HR\\t1'.format(glioma)+\"\\\\\"+file, r\"D:\\Gaussian_blur_bicubic_interpolation\\Classification\\HR\\{}\\train\\{}\".format(i,glioma))\n",
    "\n",
    "        for file in os.listdir(test):\n",
    "            if file in os.listdir(r'D:\\Gaussian_blur_bicubic_interpolation\\{}_HR\\t1'.format(glioma)):\n",
    "                shutil.copy(r'D:\\Gaussian_blur_bicubic_interpolation\\{}_HR\\t1'.format(glioma)+\"\\\\\"+file, r\"D:\\Gaussian_blur_bicubic_interpolation\\Classification\\HR\\{}\\test\\{}\".format(i,glioma))\n",
    "\n",
    "        for file in os.listdir(val):\n",
    "            if file in os.listdir(r'D:\\Gaussian_blur_bicubic_interpolation\\{}_HR\\t1'.format(glioma)):\n",
    "                shutil.copy(r'D:\\Gaussian_blur_bicubic_interpolation\\{}_HR\\t1'.format(glioma)+\"\\\\\"+file, r\"D:\\Gaussian_blur_bicubic_interpolation\\Classification\\HR\\{}\\val\\{}\".format(i,glioma))"
   ]
  },
  {
   "cell_type": "markdown",
   "id": "0d10e245",
   "metadata": {},
   "source": [
    "##### LR"
   ]
  },
  {
   "cell_type": "code",
   "execution_count": null,
   "id": "87516a92",
   "metadata": {},
   "outputs": [],
   "source": [
    "HGG_LGG = [\"HGG\", \"LGG\"]\n",
    "\n",
    "#5 Different train-test-validation splits are created for cross-validation\n",
    "for i in range(1,6):\n",
    "    for glioma in HGG_LGG:\n",
    "        # Define paths for train, test, and validation folders\n",
    "        train_folder = r'D:\\Gaussian_blur_bicubic_interpolation\\Classification\\LR\\{}\\train\\\\'.format(i) + glioma\n",
    "        test_folder = r'D:\\Gaussian_blur_bicubic_interpolation\\Classification\\LR\\{}\\test\\\\'.format(i) + glioma\n",
    "        val_folder = r'D:\\Gaussian_blur_bicubic_interpolation\\Classification\\LR\\{}\\val\\\\'.format(i)  + glioma\n",
    "\n",
    "        # Create train, test, and validation folders if they don't exist\n",
    "        os.makedirs(train_folder, exist_ok=True)\n",
    "        os.makedirs(test_folder, exist_ok=True)\n",
    "        os.makedirs(val_folder, exist_ok=True)    \n",
    "\n",
    "        train = r'D:\\Gaussian_blur_bicubic_interpolation\\Classification\\SR\\{}\\train\\\\'.format(i) + glioma\n",
    "        test =  r'D:\\Gaussian_blur_bicubic_interpolation\\Classification\\SR\\{}\\test\\\\'.format(i) + glioma\n",
    "        val =  r'D:\\Gaussian_blur_bicubic_interpolation\\Classification\\SR\\{}\\val\\\\'.format(i) + glioma\n",
    "\n",
    "        #Copying the images in the train, test and val folder, so that they are the same for LR, HR, SR\n",
    "\n",
    "        for file in os.listdir(train):\n",
    "            if file in os.listdir(r'D:\\Gaussian_blur_bicubic_interpolation\\{}_LR\\t1\\4x'.format(glioma)):\n",
    "                shutil.copy(r'D:\\Gaussian_blur_bicubic_interpolation\\{}_LR\\t1\\4x'.format(glioma)+\"\\\\\"+file, r\"D:\\Gaussian_blur_bicubic_interpolation\\Classification\\LR\\{}\\train\\{}\".format(i,glioma))\n",
    "\n",
    "        for file in os.listdir(test):\n",
    "            if file in os.listdir(r'D:\\Gaussian_blur_bicubic_interpolation\\{}_LR\\t1\\4x'.format(glioma)):\n",
    "                shutil.copy(r'D:\\Gaussian_blur_bicubic_interpolation\\{}_LR\\t1\\4x'.format(glioma)+\"\\\\\"+file, r\"D:\\Gaussian_blur_bicubic_interpolation\\Classification\\LR\\{}\\test\\{}\".format(i,glioma))\n",
    "\n",
    "        for file in os.listdir(val):\n",
    "            if file in os.listdir(r'D:\\Gaussian_blur_bicubic_interpolation\\{}_LR\\t1\\4x'.format(glioma)):\n",
    "                shutil.copy(r'D:\\Gaussian_blur_bicubic_interpolation\\{}_LR\\t1\\4x'.format(glioma)+\"\\\\\"+file, r\"D:\\Gaussian_blur_bicubic_interpolation\\Classification\\LR\\{}\\val\\{}\".format(i,glioma))"
   ]
  }
 ],
 "metadata": {
  "kernelspec": {
   "display_name": "Python 3 (ipykernel)",
   "language": "python",
   "name": "python3"
  },
  "language_info": {
   "codemirror_mode": {
    "name": "ipython",
    "version": 3
   },
   "file_extension": ".py",
   "mimetype": "text/x-python",
   "name": "python",
   "nbconvert_exporter": "python",
   "pygments_lexer": "ipython3",
   "version": "3.9.13"
  }
 },
 "nbformat": 4,
 "nbformat_minor": 5
}
