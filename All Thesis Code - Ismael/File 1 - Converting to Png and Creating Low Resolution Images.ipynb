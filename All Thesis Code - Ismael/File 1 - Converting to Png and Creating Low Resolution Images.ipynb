{
 "cells": [
  {
   "cell_type": "markdown",
   "id": "09f74a32",
   "metadata": {},
   "source": [
    "### Converting High and Low Grade Glioma to PNG"
   ]
  },
  {
   "cell_type": "code",
   "execution_count": null,
   "id": "1b93f525",
   "metadata": {},
   "outputs": [],
   "source": [
    "import os\n",
    "import zipfile\n",
    "import nibabel as nib\n",
    "from PIL import Image\n",
    "import numpy as np\n",
    "\n",
    "\n",
    "#Creating new directories to store the converted files in\n",
    "os.makedirs(\"D:\\\\Gaussian_blur_bicubic_interpolation\\\\\" + \"HGG_HR\\\\\" + \"t1\")\n",
    "os.makedirs(\"D:\\\\Gaussian_blur_bicubic_interpolation\\\\\" + \"HGG_HR\\\\\" + \"seg\")\n",
    "os.makedirs(\"D:\\\\Gaussian_blur_bicubic_interpolation\\\\\" + \"HGG_LR\\\\\" + \"t1\")\n",
    "\n",
    "#Creating new directories to store the converted files in\n",
    "os.makedirs(\"D:\\\\Gaussian_blur_bicubic_interpolation\\\\\" + \"LGG_HR\\\\\" + \"t1\")\n",
    "os.makedirs(\"D:\\\\Gaussian_blur_bicubic_interpolation\\\\\" + \"LGG_HR\\\\\" + \"seg\")\n",
    "os.makedirs(\"D:\\\\Gaussian_blur_bicubic_interpolation\\\\\" + \"LGG_LR\\\\\" + \"t1\")\n",
    "\n",
    "#Going to loop through both the HGG and LGG folders in the 'D:\\BraTS2018' directory\n",
    "directory_path = 'D:\\BraTS2018'\n",
    "HGG_LGG = [\"HGG\", \"LGG\"]\n",
    "\n",
    "#New directory images will be saved in\n",
    "new_directory = \"D:\\\\Gaussian_blur_bicubic_interpolation\\\\\"\n",
    "\n",
    "#Looping through all patients in the HGG and LGG folders and converting the NIFTI files to png\n",
    "for folder in HGG_LGG:\n",
    "    patient_path = directory_path + \"\\\\\" + folder + \"\\\\\"\n",
    "    #Listing each patient in the HGG/LGG directory\n",
    "    list_of_patients = os.listdir(patient_path)\n",
    "    for patient in list_of_patients:\n",
    "        #Listing the files in each patients directory\n",
    "        list_of_files = os.listdir(patient_path + patient)\n",
    "        for file in list_of_files:\n",
    "        #Only want to extract the t1.nii.gz and seg.nii.gz files\n",
    "            if \"t1.nii.gz\" in file or \"seg.nii.gz\" in file:\n",
    "                # Load the NIfTI image\n",
    "                nifti_image = nib.load(patient_path + patient + \"\\\\\" + file)\n",
    "                # Get the NIfTI data as a NumPy array\n",
    "                nifti_data = nifti_image.get_fdata()\n",
    "                # Iterating through the 3rd dimension (slices) and save each slice as a PNG\n",
    "                # 3rd dimension is the Axial Plane\n",
    "                for i in range(nifti_data.shape[2]):\n",
    "                    slice_data = nifti_data[:, :, i]\n",
    "                    #Removing slices that are empty\n",
    "                    if np.all(slice_data == 0):\n",
    "                        continue\n",
    "                    # Rescale the data to fit the PNG range (0 to 255)\n",
    "                    min_value = np.min(slice_data)\n",
    "                    max_value = np.max(slice_data)\n",
    "                    scaled_data = (slice_data - min_value) / (max_value - min_value) * 255\n",
    "                    # Convert the NumPy array to a Pillow image\n",
    "                    png_image = Image.fromarray(scaled_data.astype(np.uint8))\n",
    "                    # Save the PNG image with a unique name for each slice\n",
    "                    if \"t1.nii.gz\" in file:\n",
    "                        png_image.save(f'{new_directory}\\\\{folder}_HR\\\\t1\\\\{file[:-7]}_slice_{i}.png')\n",
    "                    if \"seg.nii.gz\" in file:\n",
    "                        png_image.save(f'{new_directory}\\\\{folder}_HR\\\\seg\\\\{file[:-7]}_slice_{i}.png')"
   ]
  },
  {
   "cell_type": "markdown",
   "id": "e50de19d",
   "metadata": {},
   "source": [
    "### Removing slices that don't contain glioma"
   ]
  },
  {
   "cell_type": "code",
   "execution_count": null,
   "id": "68a5d51f",
   "metadata": {},
   "outputs": [],
   "source": [
    "#Creating a list of all the slices that are in the seg and t1 folder\n",
    "\n",
    "import os\n",
    "\n",
    "patient_names = os.listdir(r\"D:\\BraTS2018\\HGG\")\n",
    "\n",
    "seg_files = os.listdir(r\"D:\\Gaussian_blur_bicubic_interpolation\\HGG_HR\\seg\")\n",
    "\n",
    "t1_updated_files_HGG = []\n",
    "\n",
    "for patient in patient_names:\n",
    "    for item in seg_files:\n",
    "        if patient in item:\n",
    "            t1_updated_files_HGG.append(patient + \"_t1_slice_\" + item[len(patient)+11:])\n",
    "             \n",
    "patient_names = os.listdir(r\"D:\\BraTS2018\\LGG\")\n",
    "\n",
    "seg_files = os.listdir(r\"D:\\Gaussian_blur_bicubic_interpolation\\LGG_HR\\seg\")\n",
    "\n",
    "t1_updated_files_LGG = []\n",
    "\n",
    "for patient in patient_names:\n",
    "    for item in seg_files:\n",
    "        if patient in item:\n",
    "            t1_updated_files_LGG.append(patient + \"_t1_slice_\" + item[len(patient)+11:])       "
   ]
  },
  {
   "cell_type": "code",
   "execution_count": null,
   "id": "53d62425",
   "metadata": {},
   "outputs": [],
   "source": [
    "#Removing the slices that are not in Seg folder from t1\n",
    "\n",
    "for filename in os.listdir(r\"D:\\Gaussian_blur_bicubic_interpolation\\HGG_HR\\t1\"):\n",
    "        file_path = os.path.join(r\"D:\\Gaussian_blur_bicubic_interpolation\\HGG_HR\\t1\", filename)\n",
    "        if os.path.isfile(file_path) and filename not in t1_updated_files_HGG:\n",
    "            try:\n",
    "                os.remove(file_path)\n",
    "                print(f\"Deleted: {filename}\")\n",
    "            except Exception as e:\n",
    "                print(f\"Error deleting {filename}: {e}\")    \n",
    "                \n",
    "                \n",
    "for filename in os.listdir(r\"D:\\Gaussian_blur_bicubic_interpolation\\LGG_HR\\t1\"):\n",
    "        file_path = os.path.join(r\"D:\\Gaussian_blur_bicubic_interpolation\\LGG_HR\\t1\", filename)\n",
    "        if os.path.isfile(file_path) and filename not in t1_updated_files_LGG:\n",
    "            try:\n",
    "                os.remove(file_path)\n",
    "                print(f\"Deleted: {filename}\")\n",
    "            except Exception as e:\n",
    "                print(f\"Error deleting {filename}: {e}\")      "
   ]
  },
  {
   "cell_type": "markdown",
   "id": "85e13fe0",
   "metadata": {},
   "source": [
    "### Creating Low Resolution Images"
   ]
  },
  {
   "cell_type": "code",
   "execution_count": null,
   "id": "dd630595",
   "metadata": {},
   "outputs": [],
   "source": [
    "#Downsample.py file can be downloaded from the following link\n",
    "#https://github.com/wqi/img-downsampler\n",
    "\n",
    "#Make sure the downsample.py file is in your current working directory\n",
    "\n",
    "!python downsample.py D:\\Gaussian_blur_bicubic_interpolation\\HGG_HR\\t1 D:\\Gaussian_blur_bicubic_interpolation\\HGG_LR\\t1\n",
    "!python downsample.py D:\\Gaussian_blur_bicubic_interpolation\\LGG_HR\\t1 D:\\Gaussian_blur_bicubic_interpolation\\LGG_LR\\t1"
   ]
  }
 ],
 "metadata": {
  "kernelspec": {
   "display_name": "Python 3 (ipykernel)",
   "language": "python",
   "name": "python3"
  },
  "language_info": {
   "codemirror_mode": {
    "name": "ipython",
    "version": 3
   },
   "file_extension": ".py",
   "mimetype": "text/x-python",
   "name": "python",
   "nbconvert_exporter": "python",
   "pygments_lexer": "ipython3",
   "version": "3.9.13"
  }
 },
 "nbformat": 4,
 "nbformat_minor": 5
}
