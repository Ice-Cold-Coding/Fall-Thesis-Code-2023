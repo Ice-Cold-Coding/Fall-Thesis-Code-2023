{
 "cells": [
  {
   "cell_type": "markdown",
   "id": "ab07feb2",
   "metadata": {},
   "source": [
    "### Creating Dataloaders"
   ]
  },
  {
   "cell_type": "code",
   "execution_count": 1,
   "id": "ffd09d74",
   "metadata": {},
   "outputs": [
    {
     "name": "stdout",
     "output_type": "stream",
     "text": [
      "Found 1512 files belonging to 2 classes.\n",
      "Found 190 files belonging to 2 classes.\n"
     ]
    }
   ],
   "source": [
    "import tensorflow as tf\n",
    "import keras_tuner\n",
    "from tensorflow import keras\n",
    "from tensorflow.keras import layers\n",
    "from tensorflow.python.keras.layers import Dense, Flatten\n",
    "from tensorflow.keras.models import Sequential\n",
    "from tensorflow.keras.optimizers import Adam,SGD\n",
    "\n",
    "train_ds = keras.utils.image_dataset_from_directory(\n",
    "    directory=r'D:\\Gaussian_blur_bicubic_interpolation\\Classification\\HR\\train',\n",
    "    labels='inferred',\n",
    "    label_mode='binary',\n",
    "    batch_size=32,\n",
    "    color_mode=\"rgb\",\n",
    "    seed=123,\n",
    "    image_size=(240, 240))\n",
    "\n",
    "test_ds = keras.utils.image_dataset_from_directory(\n",
    "    directory=r'D:\\Gaussian_blur_bicubic_interpolation\\Classification\\HR\\test',\n",
    "    labels='inferred',\n",
    "    label_mode='binary',\n",
    "    batch_size=32,\n",
    "    color_mode=\"rgb\",\n",
    "    seed=123,\n",
    "    image_size=(240, 240))"
   ]
  },
  {
   "cell_type": "markdown",
   "id": "70385458",
   "metadata": {},
   "source": [
    "### Hyper parameter tuning"
   ]
  },
  {
   "cell_type": "code",
   "execution_count": 2,
   "id": "13d1ca2e",
   "metadata": {},
   "outputs": [
    {
     "data": {
      "text/plain": [
       "<keras.engine.sequential.Sequential at 0x2ba3e1d2df0>"
      ]
     },
     "execution_count": 2,
     "metadata": {},
     "output_type": "execute_result"
    }
   ],
   "source": [
    "from tensorflow.keras.optimizers import Adam,SGD\n",
    "\n",
    "def build_model(hp):\n",
    "    resnet_model = Sequential()\n",
    "\n",
    "    pretrained_model= tf.keras.applications.ResNet50(include_top=False,\n",
    "                       input_shape=(240,240,3),\n",
    "                       pooling='avg',classes=2,\n",
    "                       weights='imagenet')\n",
    "    for layer in pretrained_model.layers:\n",
    "            layer.trainable=False\n",
    "\n",
    "    resnet_model.add(pretrained_model)\n",
    "    resnet_model.add(Flatten())\n",
    "    resnet_model.add(Dense(1, activation='sigmoid'))\n",
    "    optimizer=hp.Choice('optimizer', values=['sgd', 'adam'])                \n",
    "    # Conditional for each optimizer\n",
    "    if optimizer == 'adam':\n",
    "        learning_rate = hp.Choice(\"learning_rate\", values=[0.001, 0.01, 0.1])\n",
    "        resnet_model.compile(optimizer=Adam(lr=learning_rate),loss='binary_crossentropy',metrics=['accuracy'])\n",
    "    elif optimizer == 'sgd':\n",
    "        learning_rate = hp.Choice(\"learning_rate\", values=[0.001, 0.01, 0.1])\n",
    "        resnet_model.compile(optimizer=SGD(learning_rate=learning_rate),loss='binary_crossentropy',metrics=['accuracy'])\n",
    "    return resnet_model\n",
    "\n",
    "build_model(keras_tuner.HyperParameters())"
   ]
  },
  {
   "cell_type": "code",
   "execution_count": 3,
   "id": "203dcefc",
   "metadata": {},
   "outputs": [],
   "source": [
    "tuner = keras_tuner.RandomSearch(\n",
    "    hypermodel=build_model,\n",
    "    objective=\"val_accuracy\",\n",
    "    max_trials=10,\n",
    "    executions_per_trial=1,\n",
    "    max_retries_per_trial=1,\n",
    "    max_consecutive_failed_trials=3,\n",
    "    overwrite=True,\n",
    "    directory=r\"D:\\\\\",\n",
    "    project_name=\"hyper_parameter_results_thesis\")"
   ]
  },
  {
   "cell_type": "code",
   "execution_count": 4,
   "id": "4d64b769",
   "metadata": {},
   "outputs": [
    {
     "name": "stdout",
     "output_type": "stream",
     "text": [
      "Search space summary\n",
      "Default search space size: 2\n",
      "optimizer (Choice)\n",
      "{'default': 'sgd', 'conditions': [], 'values': ['sgd', 'adam'], 'ordered': False}\n",
      "learning_rate (Choice)\n",
      "{'default': 0.001, 'conditions': [], 'values': [0.001, 0.01, 0.1], 'ordered': True}\n"
     ]
    }
   ],
   "source": [
    "tuner.search_space_summary()"
   ]
  },
  {
   "cell_type": "code",
   "execution_count": 5,
   "id": "31095846",
   "metadata": {},
   "outputs": [
    {
     "name": "stdout",
     "output_type": "stream",
     "text": [
      "Trial 3 Complete [00h 09m 45s]\n",
      "val_accuracy: 0.7368420958518982\n",
      "\n",
      "Best val_accuracy So Far: 0.74210524559021\n",
      "Total elapsed time: 00h 29m 51s\n",
      "INFO:tensorflow:Oracle triggered exit\n"
     ]
    },
    {
     "name": "stderr",
     "output_type": "stream",
     "text": [
      "INFO:tensorflow:Oracle triggered exit\n"
     ]
    }
   ],
   "source": [
    "tuner.search(train_ds, epochs=5, validation_data=test_ds)"
   ]
  },
  {
   "cell_type": "markdown",
   "id": "d5c220ad",
   "metadata": {},
   "source": [
    "### Results  of Hyper parameter tuning"
   ]
  },
  {
   "cell_type": "code",
   "execution_count": 6,
   "id": "50075f62",
   "metadata": {},
   "outputs": [
    {
     "name": "stdout",
     "output_type": "stream",
     "text": [
      "Results summary\n",
      "Results in D:\\\\hyper_parameter_results_thesis\n",
      "Showing 10 best trials\n",
      "Objective(name=\"val_accuracy\", direction=\"max\")\n",
      "\n",
      "Trial 0 summary\n",
      "Hyperparameters:\n",
      "optimizer: adam\n",
      "learning_rate: 0.1\n",
      "Score: 0.74210524559021\n",
      "\n",
      "Trial 1 summary\n",
      "Hyperparameters:\n",
      "optimizer: adam\n",
      "learning_rate: 0.001\n",
      "Score: 0.74210524559021\n",
      "\n",
      "Trial 2 summary\n",
      "Hyperparameters:\n",
      "optimizer: sgd\n",
      "learning_rate: 0.1\n",
      "Score: 0.7368420958518982\n"
     ]
    }
   ],
   "source": [
    "tuner.results_summary()"
   ]
  }
 ],
 "metadata": {
  "kernelspec": {
   "display_name": "Python 3 (ipykernel)",
   "language": "python",
   "name": "python3"
  },
  "language_info": {
   "codemirror_mode": {
    "name": "ipython",
    "version": 3
   },
   "file_extension": ".py",
   "mimetype": "text/x-python",
   "name": "python",
   "nbconvert_exporter": "python",
   "pygments_lexer": "ipython3",
   "version": "3.9.13"
  }
 },
 "nbformat": 4,
 "nbformat_minor": 5
}
