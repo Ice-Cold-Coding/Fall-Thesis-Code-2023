{
 "cells": [
  {
   "cell_type": "markdown",
   "id": "ce476580",
   "metadata": {},
   "source": [
    "###  Putting Images into  train-test split with stratified sampling"
   ]
  },
  {
   "cell_type": "markdown",
   "id": "3c87ea77",
   "metadata": {},
   "source": [
    "#### HGG"
   ]
  },
  {
   "cell_type": "code",
   "execution_count": null,
   "id": "9dd28d5a",
   "metadata": {},
   "outputs": [],
   "source": [
    "import os\n",
    "from sklearn.model_selection import train_test_split\n",
    "\n",
    "# Specify the path to your data folder\n",
    "data_folder = r\"D:\\Gaussian_blur_bicubic_interpolation\\HGG_HR\\t1\"\n",
    "\n",
    "# Get a list of all file names in the data folder\n",
    "all_files = os.listdir(data_folder)\n",
    "\n",
    "# Split the data into train, and test sets\n",
    "train_files, test_files = train_test_split(all_files, test_size=0.2, random_state=42)\n",
    "\n",
    "# Define paths for train, and test folders\n",
    "train_folder = r'D:\\Gaussian_blur_bicubic_interpolation\\HGG_and_LGG\\trainH'\n",
    "test_folder = r'D:\\Gaussian_blur_bicubic_interpolation\\HGG_and_LGG\\testH'\n",
    "\n",
    "# Create train, test, and validation folders if they don't exist\n",
    "os.makedirs(train_folder, exist_ok=True)\n",
    "os.makedirs(test_folder, exist_ok=True)\n",
    "\n",
    "# Move files to their respective folders\n",
    "for file in train_files:\n",
    "    src_path = os.path.join(data_folder, file)\n",
    "    dest_path = os.path.join(train_folder, file)\n",
    "    os.rename(src_path, dest_path)\n",
    "\n",
    "for file in test_files:\n",
    "    src_path = os.path.join(data_folder, file)\n",
    "    dest_path = os.path.join(test_folder, file)\n",
    "    os.rename(src_path, dest_path)"
   ]
  },
  {
   "cell_type": "code",
   "execution_count": null,
   "id": "bdef9f36",
   "metadata": {},
   "outputs": [],
   "source": [
    "import os\n",
    "from sklearn.model_selection import train_test_split\n",
    "\n",
    "data_folder = r'D:\\Gaussian_blur_bicubic_interpolation\\HGG_LR\\t1\\4x'\n",
    "\n",
    "#Sincet the files names in HGG_LR and HGG_HR are the same, the low resolution version of the images in trainH, and testH \n",
    "#are moved to trainL, and testL \n",
    "\n",
    "train_list = os.listdir(r'D:\\Gaussian_blur_bicubic_interpolation\\HGG_and_LGG\\trainH')\n",
    "train_folder = r'D:\\Gaussian_blur_bicubic_interpolation\\HGG_and_LGG\\trainL'\n",
    "os.makedirs(train_folder, exist_ok=True)\n",
    "\n",
    "for file in train_list:\n",
    "    src_path = os.path.join(data_folder, file)\n",
    "    dest_path = os.path.join(train_folder, file)\n",
    "    os.rename(src_path, dest_path)\n",
    "\n",
    "test_list = os.listdir(r'D:\\Gaussian_blur_bicubic_interpolation\\HGG_and_LGG\\testH')\n",
    "test_folder = r'D:\\Gaussian_blur_bicubic_interpolation\\HGG_and_LGG\\testL'\n",
    "os.makedirs(test_folder, exist_ok=True)\n",
    "\n",
    "for file in test_list:\n",
    "    src_path = os.path.join(data_folder, file)\n",
    "    dest_path = os.path.join(test_folder, file)\n",
    "    os.rename(src_path, dest_path)"
   ]
  },
  {
   "cell_type": "markdown",
   "id": "eda3cfae",
   "metadata": {},
   "source": [
    "#### LGG"
   ]
  },
  {
   "cell_type": "code",
   "execution_count": null,
   "id": "4188f2ff",
   "metadata": {},
   "outputs": [],
   "source": [
    "import os\n",
    "from sklearn.model_selection import train_test_split\n",
    "\n",
    "# Specify the path to your data folder\n",
    "data_folder = r\"D:\\Gaussian_blur_bicubic_interpolation\\LGG_HR\\t1\"\n",
    "\n",
    "# Get a list of all file names in the data folder\n",
    "all_files = os.listdir(data_folder)\n",
    "\n",
    "# Split the data into train, test, and validation sets\n",
    "train_files, test_files = train_test_split(all_files, test_size=0.2, random_state=42)\n",
    "\n",
    "# Define paths for train, and test folders\n",
    "train_folder = r'D:\\Gaussian_blur_bicubic_interpolation\\HGG_and_LGG\\trainH'\n",
    "test_folder = r'D:\\Gaussian_blur_bicubic_interpolation\\HGG_and_LGG\\testH'\n",
    "\n",
    "# Create train, test, and validation folders if they don't exist\n",
    "os.makedirs(train_folder, exist_ok=True)\n",
    "os.makedirs(test_folder, exist_ok=True)\n",
    "\n",
    "# Move files to their respective folders\n",
    "for file in train_files:\n",
    "    src_path = os.path.join(data_folder, file)\n",
    "    dest_path = os.path.join(train_folder, file)\n",
    "    os.rename(src_path, dest_path)\n",
    "\n",
    "for file in test_files:\n",
    "    src_path = os.path.join(data_folder, file)\n",
    "    dest_path = os.path.join(test_folder, file)\n",
    "    os.rename(src_path, dest_path)"
   ]
  },
  {
   "cell_type": "code",
   "execution_count": null,
   "id": "9bc2c82c",
   "metadata": {},
   "outputs": [],
   "source": [
    "import os\n",
    "from sklearn.model_selection import train_test_split\n",
    "\n",
    "data_folder = r'D:\\Gaussian_blur_bicubic_interpolation\\LGG_LR\\t1\\4x'\n",
    "\n",
    "#Sincet the files names in HGG_LR and HGG_HR are the same, the low resolution version of the images in trainH, and testH \n",
    "#are moved to trainL, and testL \n",
    "\n",
    "#train_list = os.listdir(r'D:\\Gaussian_blur_bicubic_interpolation\\HGG_and_LGG\\trainH')\n",
    "train_folder = r'D:\\Gaussian_blur_bicubic_interpolation\\HGG_and_LGG\\trainL'\n",
    "os.makedirs(train_folder, exist_ok=True)\n",
    "\n",
    "for file in train_files:\n",
    "    src_path = os.path.join(data_folder, file)\n",
    "    dest_path = os.path.join(train_folder, file)\n",
    "    os.rename(src_path, dest_path)\n",
    "\n",
    "#test_list = os.listdir(r'D:\\Gaussian_blur_bicubic_interpolation\\HGG_and_LGG\\testH')\n",
    "test_folder = r'D:\\Gaussian_blur_bicubic_interpolation\\HGG_and_LGG\\testL'\n",
    "os.makedirs(test_folder, exist_ok=True)\n",
    "\n",
    "for file in test_files:\n",
    "    src_path = os.path.join(data_folder, file)\n",
    "    dest_path = os.path.join(test_folder, file)\n",
    "    os.rename(src_path, dest_path)"
   ]
  }
 ],
 "metadata": {
  "kernelspec": {
   "display_name": "Python 3 (ipykernel)",
   "language": "python",
   "name": "python3"
  },
  "language_info": {
   "codemirror_mode": {
    "name": "ipython",
    "version": 3
   },
   "file_extension": ".py",
   "mimetype": "text/x-python",
   "name": "python",
   "nbconvert_exporter": "python",
   "pygments_lexer": "ipython3",
   "version": "3.9.13"
  }
 },
 "nbformat": 4,
 "nbformat_minor": 5
}
