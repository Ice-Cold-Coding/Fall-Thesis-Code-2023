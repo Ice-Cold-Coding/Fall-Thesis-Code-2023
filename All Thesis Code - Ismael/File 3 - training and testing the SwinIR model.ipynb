{
  "nbformat": 4,
  "nbformat_minor": 0,
  "metadata": {
    "colab": {
      "provenance": [],
      "gpuType": "T4"
    },
    "kernelspec": {
      "name": "python3",
      "display_name": "Python 3"
    },
    "language_info": {
      "name": "python"
    },
    "accelerator": "GPU"
  },
  "cells": [
    {
      "cell_type": "markdown",
      "source": [
        "##Training and Testing SwinIR model"
      ],
      "metadata": {
        "id": "Ec4LKruY1yMG"
      }
    },
    {
      "cell_type": "code",
      "execution_count": null,
      "metadata": {
        "id": "pr_Y8P8wzUrB"
      },
      "outputs": [],
      "source": [
        "from google.colab import drive\n",
        "drive.mount('/content/drive')"
      ]
    },
    {
      "cell_type": "code",
      "source": [
        "#Specify the directory where the KAIR folder is located\n",
        "%cd /content/drive/MyDrive/Ismael_Thesis_Code/Thesis_Notebooks_Fall_2023/KAIR-Gaussian_blur_bicubic_interpolation\n",
        "!pip install -r requirement.txt"
      ],
      "metadata": {
        "id": "w1F4-WgbzaAZ"
      },
      "execution_count": null,
      "outputs": []
    },
    {
      "cell_type": "code",
      "source": [
      "Performance metrics are saved as super_resolution_output_epoch_# depending on the epoch\n"
        "!torchrun --nproc_per_node=1 --master_port=1234 main_train_psnr.py --opt options/swinir/train_swinir_sr_classical.json --dist True"
      ],
      "metadata": {
        "id": "8Qkqa10Y1tre"
      },
      "execution_count": null,
      "outputs": []
    }
  ]
}
